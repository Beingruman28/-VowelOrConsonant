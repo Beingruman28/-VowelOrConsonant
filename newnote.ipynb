{
  "nbformat": 4,
  "nbformat_minor": 0,
  "metadata": {
    "colab": {
      "provenance": [],
      "authorship_tag": "ABX9TyOT8l5I4BpHKc00uVNSnNa7",
      "include_colab_link": true
    },
    "kernelspec": {
      "name": "python3",
      "display_name": "Python 3"
    },
    "language_info": {
      "name": "python"
    }
  },
  "cells": [
    {
      "cell_type": "markdown",
      "metadata": {
        "id": "view-in-github",
        "colab_type": "text"
      },
      "source": [
        "<a href=\"https://colab.research.google.com/github/Beingruman28/-VowelOrConsonant/blob/master/newnote.ipynb\" target=\"_parent\"><img src=\"https://colab.research.google.com/assets/colab-badge.svg\" alt=\"Open In Colab\"/></a>"
      ]
    },
    {
      "cell_type": "code",
      "execution_count": 9,
      "metadata": {
        "colab": {
          "base_uri": "https://localhost:8080/"
        },
        "id": "u8Bxilosl4yL",
        "outputId": "004a83bd-c2f8-40a3-dd77-d4055cc0045b"
      },
      "outputs": [
        {
          "output_type": "stream",
          "name": "stdout",
          "text": [
            "d=  42\n"
          ]
        }
      ],
      "source": [
        "a = 5\n",
        "b =  3\n",
        "c =  34\n",
        "d = a+b+c\n",
        "print (\"d= \",d)"
      ]
    },
    {
      "cell_type": "code",
      "source": [
        "5^6+3"
      ],
      "metadata": {
        "colab": {
          "base_uri": "https://localhost:8080/"
        },
        "id": "sc9Pa2YOzqF2",
        "outputId": "4b288423-c785-4497-a885-4e9aabe7236a"
      },
      "execution_count": 10,
      "outputs": [
        {
          "output_type": "execute_result",
          "data": {
            "text/plain": [
              "12"
            ]
          },
          "metadata": {},
          "execution_count": 10
        }
      ]
    },
    {
      "cell_type": "code",
      "source": [
        "raisins = 50\n",
        "apricot = 20\n",
        "almonds = 60\n",
        "sum_df = raisins + apricot + almonds\n",
        "raisins_perc = (raisins/sum_df)*100\n",
        "apricot_perc = (apricot/sum_df)*100\n",
        "almonds_perc = (almonds/sum_df)*100\n",
        "print (raisins_perc, apricot_perc, almonds_perc)\n",
        "print (raisins_perc+ apricot_perc+ almonds_perc)"
      ],
      "metadata": {
        "colab": {
          "base_uri": "https://localhost:8080/"
        },
        "id": "guEdBGSmzuNp",
        "outputId": "1d350072-d7aa-4a61-ca7a-f5ed8e1d97cb"
      },
      "execution_count": 19,
      "outputs": [
        {
          "output_type": "stream",
          "name": "stdout",
          "text": [
            "38.46153846153847 15.384615384615385 46.15384615384615\n",
            "100.0\n"
          ]
        }
      ]
    },
    {
      "cell_type": "code",
      "source": [],
      "metadata": {
        "id": "ckG9K8FT0HqV"
      },
      "execution_count": null,
      "outputs": []
    }
  ]
}