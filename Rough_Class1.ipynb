{
  "nbformat": 4,
  "nbformat_minor": 0,
  "metadata": {
    "colab": {
      "provenance": [],
      "include_colab_link": true
    },
    "kernelspec": {
      "name": "python3",
      "display_name": "Python 3"
    },
    "language_info": {
      "name": "python"
    }
  },
  "cells": [
    {
      "cell_type": "markdown",
      "metadata": {
        "id": "view-in-github",
        "colab_type": "text"
      },
      "source": [
        "<a href=\"https://colab.research.google.com/github/Beingruman28/-VowelOrConsonant/blob/master/Rough_Class1.ipynb\" target=\"_parent\"><img src=\"https://colab.research.google.com/assets/colab-badge.svg\" alt=\"Open In Colab\"/></a>"
      ]
    },
    {
      "cell_type": "code",
      "execution_count": null,
      "metadata": {
        "colab": {
          "base_uri": "https://localhost:8080/"
        },
        "id": "o-HgZIUaq8j5",
        "outputId": "cdcda568-6fc6-41d0-ba74-3293a7d99ebc"
      },
      "outputs": [
        {
          "output_type": "stream",
          "name": "stdout",
          "text": [
            "5\n"
          ]
        }
      ],
      "source": [
        "a = 5\n",
        "print(a)"
      ]
    },
    {
      "cell_type": "code",
      "source": [
        "a = 5\n",
        "b = 3\n",
        "c = a + b\n",
        "print(\"c = \",c)"
      ],
      "metadata": {
        "colab": {
          "base_uri": "https://localhost:8080/"
        },
        "id": "0NJyWLcerEj1",
        "outputId": "e056ec66-c06e-4af9-9334-2c50a88e6331"
      },
      "execution_count": null,
      "outputs": [
        {
          "output_type": "stream",
          "name": "stdout",
          "text": [
            "c =  8\n"
          ]
        }
      ]
    },
    {
      "cell_type": "markdown",
      "source": [
        "# Datatypes:\n",
        "- Numbers ( Integers , Float)\n",
        "- String ( a letter, a word , a sentence as long as inside \" \" or ' ' is a string)\n",
        "- Boolean ( True, False) "
      ],
      "metadata": {
        "id": "oCmJ4IysuPj9"
      }
    },
    {
      "cell_type": "markdown",
      "source": [],
      "metadata": {
        "id": "G7PD0nM7uoPo"
      }
    },
    {
      "cell_type": "markdown",
      "source": [
        "# Variable is a name to store a value in RAM\n",
        "- this enables u to access the value later"
      ],
      "metadata": {
        "id": "6i7deU8yvZpD"
      }
    },
    {
      "cell_type": "code",
      "source": [
        "v1 = 30 \n",
        "print(v1)"
      ],
      "metadata": {
        "colab": {
          "base_uri": "https://localhost:8080/"
        },
        "id": "5zN8qCmKusQp",
        "outputId": "7b509dba-ab77-47ae-d329-6b10f101e9b8"
      },
      "execution_count": null,
      "outputs": [
        {
          "output_type": "stream",
          "name": "stdout",
          "text": [
            "30\n"
          ]
        }
      ]
    },
    {
      "cell_type": "code",
      "source": [
        "### Syntax ## Grammar ### Alphabet = datatypes\n",
        "Age = 30 #integer ( whole number) - Age -- takes lowest memory\n",
        "Weight1 = 70.5 # float ( decimal number)\n",
        "Weight2 = 75.0 # float\n",
        "s1 = \"a\" # one letter - string - string needs to be inside quotes\n",
        "s2 = \"Utsab\" # one word - string- string needs to be inside quotes\n",
        "s3 = \"Python is very easy\" # one sentence - - string needs to be inside quotes\n",
        "\n",
        "s4 = 'Python is very easy' # I am using a single quote\n",
        "#s5 = 'Python's problem is it is not scalable'\n",
        "\n",
        "e = True  #Boolean 1 # Have a car ( Yes/ No) ; ( Havinga kid ( Yes/No))\n",
        "f = False #Boolean 0\n"
      ],
      "metadata": {
        "id": "wU8F-f7AsFtn"
      },
      "execution_count": null,
      "outputs": []
    },
    {
      "cell_type": "markdown",
      "source": [
        "# Arithmetic operation\n",
        "\n",
        "- a + b # Addition\n",
        "- a - b # Substraction\n",
        "- a * b # Multiplication\n",
        "- a / b # Division \n",
        "- a % b # Remainder\n",
        "- a**b  # Exponent = power of operator\n"
      ],
      "metadata": {
        "id": "5zvAu4KJxFv9"
      }
    },
    {
      "cell_type": "code",
      "source": [],
      "metadata": {
        "id": "o2hd6cgjwGRy"
      },
      "execution_count": null,
      "outputs": []
    },
    {
      "cell_type": "code",
      "source": [
        "a = 5\n",
        "b = 3\n",
        "c = a*b\n",
        "print(c)"
      ],
      "metadata": {
        "colab": {
          "base_uri": "https://localhost:8080/"
        },
        "id": "OLCaRpLzvqbx",
        "outputId": "de212fd2-9f17-4b73-fbe0-c71f100a047e"
      },
      "execution_count": null,
      "outputs": [
        {
          "output_type": "stream",
          "name": "stdout",
          "text": [
            "15\n"
          ]
        }
      ]
    },
    {
      "cell_type": "code",
      "source": [
        "a = 5\n",
        "b = 3\n",
        "c = a%b\n",
        "print(c)"
      ],
      "metadata": {
        "colab": {
          "base_uri": "https://localhost:8080/"
        },
        "id": "Dh0e9W5lwUO_",
        "outputId": "27462a5a-b2de-4046-e83c-2e1b83a2c3ef"
      },
      "execution_count": null,
      "outputs": [
        {
          "output_type": "stream",
          "name": "stdout",
          "text": [
            "2\n"
          ]
        }
      ]
    },
    {
      "cell_type": "code",
      "source": [
        "a = 5\n",
        "b = 3\n",
        "c = a**b # 5^3\n",
        "print(c)"
      ],
      "metadata": {
        "colab": {
          "base_uri": "https://localhost:8080/"
        },
        "id": "8iyOAvNkw4-R",
        "outputId": "b79e815a-841e-4a3a-d786-a80e736f9fa9"
      },
      "execution_count": null,
      "outputs": [
        {
          "output_type": "stream",
          "name": "stdout",
          "text": [
            "125\n"
          ]
        }
      ]
    },
    {
      "cell_type": "code",
      "source": [
        "# before starting a line means python interpreter will ignore it \" Comments line\"\n",
        "# if I have 20 lines of paragraph i want to write ...and i want python to ignore all\n",
        "# do i need to give 20 hashes \n",
        "\n",
        "\"\"\"\n",
        "gjgjg\n",
        "jgikugkg\n",
        "vjhvgkv\n",
        "vjgvjgv\n",
        "cvjhvk\n",
        "vjhgvkjhg\n",
        "vjhvk\n",
        "vkjvkj\n",
        "\"\"\"\n",
        "\n",
        "\n",
        "\n",
        "# a = 3\n",
        "print(\"Hi all\")\n",
        "# b = 5\n",
        "# c = a*b\n",
        "# print(c)"
      ],
      "metadata": {
        "colab": {
          "base_uri": "https://localhost:8080/"
        },
        "id": "Ezj9JWWfwq6E",
        "outputId": "1cbd0415-22a3-4aaa-f84a-d8b27e45ae42"
      },
      "execution_count": null,
      "outputs": [
        {
          "output_type": "stream",
          "name": "stdout",
          "text": [
            "Hi all\n"
          ]
        }
      ]
    },
    {
      "cell_type": "code",
      "source": [],
      "metadata": {
        "id": "tS25FZVYza6_"
      },
      "execution_count": null,
      "outputs": []
    },
    {
      "cell_type": "markdown",
      "source": [
        "# BODMAS -  Arithemtic"
      ],
      "metadata": {
        "id": "3m9K7AVMzbSx"
      }
    },
    {
      "cell_type": "code",
      "source": [
        "5*6+3"
      ],
      "metadata": {
        "colab": {
          "base_uri": "https://localhost:8080/"
        },
        "id": "nEa5nrHAxbie",
        "outputId": "0564e494-c87f-405c-cc61-b5750c323cef"
      },
      "execution_count": null,
      "outputs": [
        {
          "output_type": "execute_result",
          "data": {
            "text/plain": [
              "33"
            ]
          },
          "metadata": {},
          "execution_count": 22
        }
      ]
    },
    {
      "cell_type": "code",
      "source": [
        "5*(6+3)"
      ],
      "metadata": {
        "colab": {
          "base_uri": "https://localhost:8080/"
        },
        "id": "3zDOLrbvzlcz",
        "outputId": "87bb052b-7cf0-4bcf-c226-571ce709b24e"
      },
      "execution_count": null,
      "outputs": [
        {
          "output_type": "execute_result",
          "data": {
            "text/plain": [
              "45"
            ]
          },
          "metadata": {},
          "execution_count": 23
        }
      ]
    },
    {
      "cell_type": "code",
      "source": [
        "9*6/2+5"
      ],
      "metadata": {
        "colab": {
          "base_uri": "https://localhost:8080/"
        },
        "id": "Rn07Ajhtzpdj",
        "outputId": "c29f8b65-8f2a-4385-d7ff-43549b775e09"
      },
      "execution_count": null,
      "outputs": [
        {
          "output_type": "execute_result",
          "data": {
            "text/plain": [
              "32.0"
            ]
          },
          "metadata": {},
          "execution_count": 26
        }
      ]
    },
    {
      "cell_type": "code",
      "source": [
        "9*6/(2+5)"
      ],
      "metadata": {
        "colab": {
          "base_uri": "https://localhost:8080/"
        },
        "id": "mYXycT0zz0ct",
        "outputId": "06b6f870-02df-46a5-eea8-fb7166a4ffd8"
      },
      "execution_count": null,
      "outputs": [
        {
          "output_type": "execute_result",
          "data": {
            "text/plain": [
              "7.714285714285714"
            ]
          },
          "metadata": {},
          "execution_count": 29
        }
      ]
    },
    {
      "cell_type": "code",
      "source": [
        "# It is very likely that majority of the time the result of divisions will give u float \n",
        "# so by default python changes the datatype of operations that include division"
      ],
      "metadata": {
        "id": "SJF7EGbtz_2D"
      },
      "execution_count": null,
      "outputs": []
    },
    {
      "cell_type": "markdown",
      "source": [
        "#### Variable Definition Rulebook\n",
        "- In python , all variables need to either start with alphabet or with '_' ; nothing else is allowed\n",
        "- In python, no variable is allowed to have any special characters other than '_' within it \n",
        "- In python , variable names should not collide with its in built keywords \n",
        "\n"
      ],
      "metadata": {
        "id": "ZNfkOuQv1L0K"
      }
    },
    {
      "cell_type": "code",
      "source": [
        "#not allowed\n",
        "match score = 20 \n",
        "match@score = 20 \n",
        "match$score = 20 \n",
        "match-score = 20\n",
        "\n",
        "print = 3\n",
        "int = 45\n",
        "\n",
        "#allowed\n",
        "match_score = 20 "
      ],
      "metadata": {
        "id": "u9thM06c1H0-"
      },
      "execution_count": null,
      "outputs": []
    },
    {
      "cell_type": "markdown",
      "source": [
        "###### 'R' and 'S' are two brothers who started their journey separately with 25000 Rs and 15000 Rs. However, R invested the money in 2 yr Fixed deposits that gave 7% return compounded annually . Whereas S invested the money in Equity Market that compounded at 12% return . After 2 years , who has more money in hand and by how much ?"
      ],
      "metadata": {
        "id": "uWK0_G911IF4"
      }
    },
    {
      "cell_type": "code",
      "source": [
        "# Logical Reasoning\n",
        "# Compound Interest ---> \n",
        "\n",
        "# initiatilzed the variables \n",
        "principal_r = 25000\n",
        "principal_s = 15000\n",
        "fd_rr = 0.07\n",
        "equity_rr = 0.12\n",
        "no_f_compounding_in_a_year = 1\n",
        "total_time_druration = 2\n",
        "\n",
        "# R has how much money\n",
        "overall_money_r = principal_r*((1+fd_rr/no_f_compounding_in_a_year)**(no_f_compounding_in_a_year*total_time_druration))\n",
        "\n",
        "# S has how much money\n",
        "overall_money_s = principal_s*((1+equity_rr/no_f_compounding_in_a_year)**(no_f_compounding_in_a_year*total_time_druration))\n",
        "\n",
        "# Calculate the difference between both\n",
        "print(\"The diff between R and S money = \",round((overall_money_r - overall_money_s),1))"
      ],
      "metadata": {
        "colab": {
          "base_uri": "https://localhost:8080/"
        },
        "id": "kDGPBAln3VpZ",
        "outputId": "e83d59e1-3524-4238-9e6e-12a0eba16c9b"
      },
      "execution_count": null,
      "outputs": [
        {
          "output_type": "stream",
          "name": "stdout",
          "text": [
            "The diff between R and S money =  9806.5\n"
          ]
        }
      ]
    },
    {
      "cell_type": "code",
      "source": [
        "k = 5\n",
        "print(\"I am\") # print string as is\n",
        "print(k) # print variable\n",
        "\n",
        "print(\"I am k = \", k,\"well done\") # comma is a must "
      ],
      "metadata": {
        "colab": {
          "base_uri": "https://localhost:8080/"
        },
        "id": "VvureVNw7fXM",
        "outputId": "c9b456b1-aff5-4622-a52e-0349e60f4b11"
      },
      "execution_count": null,
      "outputs": [
        {
          "output_type": "stream",
          "name": "stdout",
          "text": [
            "I am\n",
            "5\n",
            "I am k =  5 well done\n"
          ]
        }
      ]
    },
    {
      "cell_type": "markdown",
      "source": [
        "###**Activity 2**- Nutrition bar ingredient chart\n",
        "Imagine you are a data analyst at a nutrition bar manufacturing company. Your department head approaches you with a question. The company produces a nutrition bar that contains **50g of raisins, 60g of almonds, and 20g of apricots**. The head of the manufacturing department wants you to create an ingredient percentage list for the nutrition bar using python.\n",
        "\n",
        "Equipped with the knowledge of int, float and booleans in python, how would you approach this situation?"
      ],
      "metadata": {
        "id": "axrm-1n3-fy4"
      }
    },
    {
      "cell_type": "code",
      "source": [
        "almond_weight_in_gram = 60\n",
        "raisin_weight_in_gram = 50\n",
        "apricot_weight_in_gram = 20\n",
        "\n",
        "total_weight_f_bar = (almond_weight_in_gram + raisin_weight_in_gram + apricot_weight_in_gram)\n",
        "\n",
        "almond_weight_in_perc = almond_weight_in_gram/total_weight_f_bar\n",
        "raisin_weight_in_perc = raisin_weight_in_gram/total_weight_f_bar\n",
        "apricot_weight_in_perc = apricot_weight_in_gram/total_weight_f_bar\n",
        "\n",
        "print(\"Almond_perc = \",round(almond_weight_in_perc,2),\"raisin perc = \",round(raisin_weight_in_perc,2),\n",
        "      \"apricot_perc = \",round(apricot_weight_in_perc,2))"
      ],
      "metadata": {
        "colab": {
          "base_uri": "https://localhost:8080/"
        },
        "id": "x_8Dfa9w8YVw",
        "outputId": "27e50920-9b2a-4b7e-c09a-6443703093a8"
      },
      "execution_count": null,
      "outputs": [
        {
          "output_type": "stream",
          "name": "stdout",
          "text": [
            "Almond_perc =  0.46 raisin perc =  0.38 apricot_perc =  0.15\n"
          ]
        }
      ]
    },
    {
      "cell_type": "code",
      "source": [
        "abcd = 100.2345566789\n",
        "print(abcd)"
      ],
      "metadata": {
        "colab": {
          "base_uri": "https://localhost:8080/"
        },
        "id": "TGp7eaUT_HoU",
        "outputId": "14a72455-1f25-4e2e-aea5-543ceb5970b4"
      },
      "execution_count": null,
      "outputs": [
        {
          "output_type": "stream",
          "name": "stdout",
          "text": [
            "100.2345566789\n"
          ]
        }
      ]
    },
    {
      "cell_type": "code",
      "source": [
        "abcd = 100.2345566789\n",
        "print(round(abcd,0))"
      ],
      "metadata": {
        "colab": {
          "base_uri": "https://localhost:8080/"
        },
        "id": "CCgNzqZg_uzw",
        "outputId": "26eb9e82-acfa-47c8-a600-82c60bc51d45"
      },
      "execution_count": null,
      "outputs": [
        {
          "output_type": "stream",
          "name": "stdout",
          "text": [
            "100.0\n"
          ]
        }
      ]
    },
    {
      "cell_type": "code",
      "source": [],
      "metadata": {
        "id": "ryxD_bl9_43t"
      },
      "execution_count": null,
      "outputs": []
    }
  ]
}