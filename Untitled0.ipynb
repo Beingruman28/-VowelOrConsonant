{
  "nbformat": 4,
  "nbformat_minor": 0,
  "metadata": {
    "colab": {
      "provenance": [],
      "authorship_tag": "ABX9TyNxrTKlR5O5D7nmxed7Ud07",
      "include_colab_link": true
    },
    "kernelspec": {
      "name": "python3",
      "display_name": "Python 3"
    },
    "language_info": {
      "name": "python"
    }
  },
  "cells": [
    {
      "cell_type": "markdown",
      "metadata": {
        "id": "view-in-github",
        "colab_type": "text"
      },
      "source": [
        "<a href=\"https://colab.research.google.com/github/Beingruman28/-VowelOrConsonant/blob/master/Untitled0.ipynb\" target=\"_parent\"><img src=\"https://colab.research.google.com/assets/colab-badge.svg\" alt=\"Open In Colab\"/></a>"
      ]
    },
    {
      "cell_type": "code",
      "execution_count": 2,
      "metadata": {
        "colab": {
          "base_uri": "https://localhost:8080/"
        },
        "id": "4GhtPe7nXdu8",
        "outputId": "63ed1f48-248c-4914-b0b0-2caa5d298ab1"
      },
      "outputs": [
        {
          "name": "stdout",
          "output_type": "stream",
          "text": [
            "my first code in colab \n",
            "Hello, Future Data Scientist!\n",
            "Write text which you want to show to the user in outputhurray\n"
          ]
        }
      ],
      "source": [
        "print (\"my first code in colab \")\n",
        "print(\"Hello, Future Data Scientist!\")\n",
        "coursework=input(\"Write text which you want to show to the user in output\")"
      ]
    },
    {
      "cell_type": "code",
      "source": [],
      "metadata": {
        "id": "t8-7z86aYlb7"
      },
      "execution_count": null,
      "outputs": []
    }
  ]
}