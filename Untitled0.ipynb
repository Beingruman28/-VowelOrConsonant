{
  "nbformat": 4,
  "nbformat_minor": 0,
  "metadata": {
    "colab": {
      "provenance": [],
      "authorship_tag": "ABX9TyMC7ihCfgNwaQNiO4X4nKUX",
      "include_colab_link": true
    },
    "kernelspec": {
      "name": "python3",
      "display_name": "Python 3"
    },
    "language_info": {
      "name": "python"
    }
  },
  "cells": [
    {
      "cell_type": "markdown",
      "metadata": {
        "id": "view-in-github",
        "colab_type": "text"
      },
      "source": [
        "<a href=\"https://colab.research.google.com/github/Beingruman28/-VowelOrConsonant/blob/master/Untitled0.ipynb\" target=\"_parent\"><img src=\"https://colab.research.google.com/assets/colab-badge.svg\" alt=\"Open In Colab\"/></a>"
      ]
    },
    {
      "cell_type": "code",
      "execution_count": 2,
      "metadata": {
        "colab": {
          "base_uri": "https://localhost:8080/"
        },
        "id": "4GhtPe7nXdu8",
        "outputId": "63ed1f48-248c-4914-b0b0-2caa5d298ab1"
      },
      "outputs": [
        {
          "name": "stdout",
          "output_type": "stream",
          "text": [
            "my first code in colab \n",
            "Hello, Future Data Scientist!\n",
            "Write text which you want to show to the user in outputhurray\n"
          ]
        }
      ],
      "source": [
        "print (\"my first code in colab \")\n",
        "print(\"Hello, Future Data Scientist!\")\n",
        "coursework=input(\"Write text which you want to show to the user in output\")"
      ]
    },
    {
      "cell_type": "code",
      "source": [
        "print(5 + 6) # addition\n",
        "print(4 - 3) # subtraction\n",
        "print(6 * 5) # multiplication\n",
        "print(6 / 5) # division\n",
        "print(7 % 5) # modulus\n",
        "print(5 ** 3) # exponentiation\n",
        "print(4 == 2) # equal to\n",
        "print(4 != 2) # not equal to\n",
        "print(6 > 4) # greater than\n",
        "print(5 < 2) # less than\n",
        "print(6 >= 6) # greater than or equal to\n",
        "print(3 <= 5) # less than or equal to\n",
        "print(3 > 2 and 8 < 10) # logical and\n",
        "print(4 > 6 or 9 < 10) # logical or\n",
        "print(not(3 > 4)) # logical not"
      ],
      "metadata": {
        "colab": {
          "base_uri": "https://localhost:8080/"
        },
        "id": "t8-7z86aYlb7",
        "outputId": "b4560408-dc3d-45bf-b5e9-fa9f040b1f87"
      },
      "execution_count": 3,
      "outputs": [
        {
          "output_type": "stream",
          "name": "stdout",
          "text": [
            "11\n",
            "1\n",
            "30\n",
            "1.2\n",
            "2\n",
            "125\n",
            "False\n",
            "True\n",
            "True\n",
            "False\n",
            "True\n",
            "True\n",
            "True\n",
            "True\n",
            "True\n"
          ]
        }
      ]
    },
    {
      "cell_type": "code",
      "source": [
        "# Python program to find the factorial of a number provided by the user.(comment)\n",
        "\n",
        "# change the value for a different result(comment)\n",
        "num = 7\n",
        "\n",
        "# To take input from the user (comment)\n",
        "#num = int(input(\"Enter a number: \")) (comment)\n",
        "\n",
        "factorial = 1\n",
        "\n",
        "# check if the number is negative, positive, or zero (comment)\n",
        "if num < 0:\n",
        "   print(\"Sorry, factorial does not exist for negative numbers\")\n",
        "elif num == 0:\n",
        "   print(\"The factorial of 0 is 1\")\n",
        "else:\n",
        "   for i in range(1,num + 1):\n",
        "       factorial = factorial*i\n",
        "   print(\"The factorial of\",num,\"is\",factorial)"
      ],
      "metadata": {
        "colab": {
          "base_uri": "https://localhost:8080/"
        },
        "id": "VkN3OMW-bR32",
        "outputId": "3a0eeb21-827a-4ec1-c71a-915010d6d442"
      },
      "execution_count": 1,
      "outputs": [
        {
          "output_type": "stream",
          "name": "stdout",
          "text": [
            "The factorial of 7 is 5040\n"
          ]
        }
      ]
    }
  ]
}